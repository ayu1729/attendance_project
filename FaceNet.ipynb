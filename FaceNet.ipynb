{
  "nbformat": 4,
  "nbformat_minor": 0,
  "metadata": {
    "accelerator": "GPU",
    "colab": {
      "name": "FaceNet.ipynb",
      "provenance": [],
      "collapsed_sections": [],
      "mount_file_id": "1YMIZ66LKfmw2fCWZ29q3n3Ao_31NA6nj",
      "authorship_tag": "ABX9TyM8toxsDCDqflXkE0XMSq3N"
    },
    "kernelspec": {
      "display_name": "Python 3",
      "name": "python3"
    },
    "language_info": {
      "name": "python"
    }
  },
  "cells": [
    {
      "cell_type": "code",
      "metadata": {
        "id": "Jxk6DllPIugP"
      },
      "source": [
        ""
      ],
      "execution_count": null,
      "outputs": []
    },
    {
      "cell_type": "code",
      "metadata": {
        "colab": {
          "base_uri": "https://localhost:8080/"
        },
        "id": "WXhVZ1p2JXAJ",
        "outputId": "b1c66b85-fb08-4cf2-fb82-425a334f6a9a"
      },
      "source": [
        "print(\"hello\")\n"
      ],
      "execution_count": null,
      "outputs": [
        {
          "output_type": "stream",
          "text": [
            "hello\n"
          ],
          "name": "stdout"
        }
      ]
    },
    {
      "cell_type": "code",
      "metadata": {
        "colab": {
          "base_uri": "https://localhost:8080/"
        },
        "id": "HHG6laEbKA5M",
        "outputId": "2aa32624-e78e-4b4f-ee91-262c9c12e8d5"
      },
      "source": [
        "pip install keras\n"
      ],
      "execution_count": null,
      "outputs": [
        {
          "output_type": "stream",
          "text": [
            "Requirement already satisfied: keras in /usr/local/lib/python3.7/dist-packages (2.4.3)\n",
            "Requirement already satisfied: numpy>=1.9.1 in /usr/local/lib/python3.7/dist-packages (from keras) (1.19.5)\n",
            "Requirement already satisfied: h5py in /usr/local/lib/python3.7/dist-packages (from keras) (3.1.0)\n",
            "Requirement already satisfied: pyyaml in /usr/local/lib/python3.7/dist-packages (from keras) (3.13)\n",
            "Requirement already satisfied: scipy>=0.14 in /usr/local/lib/python3.7/dist-packages (from keras) (1.4.1)\n",
            "Requirement already satisfied: cached-property; python_version < \"3.8\" in /usr/local/lib/python3.7/dist-packages (from h5py->keras) (1.5.2)\n"
          ],
          "name": "stdout"
        }
      ]
    },
    {
      "cell_type": "code",
      "metadata": {
        "id": "2FDgqWLIXXVf",
        "colab": {
          "base_uri": "https://localhost:8080/"
        },
        "outputId": "56fe0c3a-f8e1-462f-ca73-4218a324762b"
      },
      "source": [
        "pip install pillow\n"
      ],
      "execution_count": null,
      "outputs": [
        {
          "output_type": "stream",
          "text": [
            "Requirement already satisfied: pillow in /usr/local/lib/python3.7/dist-packages (7.1.2)\n"
          ],
          "name": "stdout"
        }
      ]
    },
    {
      "cell_type": "code",
      "metadata": {
        "colab": {
          "base_uri": "https://localhost:8080/"
        },
        "id": "ZFM9DMtvXs3Q",
        "outputId": "eb7ce528-a8af-47fb-f74c-25d152a7f67b"
      },
      "source": [
        "!nvidia-smi\n"
      ],
      "execution_count": null,
      "outputs": [
        {
          "output_type": "stream",
          "text": [
            "Mon Jul 19 05:08:28 2021       \n",
            "+-----------------------------------------------------------------------------+\n",
            "| NVIDIA-SMI 470.42.01    Driver Version: 460.32.03    CUDA Version: 11.2     |\n",
            "|-------------------------------+----------------------+----------------------+\n",
            "| GPU  Name        Persistence-M| Bus-Id        Disp.A | Volatile Uncorr. ECC |\n",
            "| Fan  Temp  Perf  Pwr:Usage/Cap|         Memory-Usage | GPU-Util  Compute M. |\n",
            "|                               |                      |               MIG M. |\n",
            "|===============================+======================+======================|\n",
            "|   0  Tesla T4            Off  | 00000000:00:04.0 Off |                    0 |\n",
            "| N/A   51C    P8    10W /  70W |      0MiB / 15109MiB |      0%      Default |\n",
            "|                               |                      |                  N/A |\n",
            "+-------------------------------+----------------------+----------------------+\n",
            "                                                                               \n",
            "+-----------------------------------------------------------------------------+\n",
            "| Processes:                                                                  |\n",
            "|  GPU   GI   CI        PID   Type   Process name                  GPU Memory |\n",
            "|        ID   ID                                                   Usage      |\n",
            "|=============================================================================|\n",
            "|  No running processes found                                                 |\n",
            "+-----------------------------------------------------------------------------+\n"
          ],
          "name": "stdout"
        }
      ]
    },
    {
      "cell_type": "code",
      "metadata": {
        "colab": {
          "base_uri": "https://localhost:8080/"
        },
        "id": "rjtQw6jBX9gy",
        "outputId": "be6a3484-72fc-4dec-d487-9149e25b60a7"
      },
      "source": [
        "pip install mtcnn\n"
      ],
      "execution_count": null,
      "outputs": [
        {
          "output_type": "stream",
          "text": [
            "Collecting mtcnn\n",
            "\u001b[?25l  Downloading https://files.pythonhosted.org/packages/67/43/abee91792797c609c1bf30f1112117f7a87a713ebaa6ec5201d5555a73ef/mtcnn-0.1.0-py3-none-any.whl (2.3MB)\n",
            "\r\u001b[K     |▏                               | 10kB 20.9MB/s eta 0:00:01\r\u001b[K     |▎                               | 20kB 28.7MB/s eta 0:00:01\r\u001b[K     |▍                               | 30kB 33.8MB/s eta 0:00:01\r\u001b[K     |▋                               | 40kB 30.5MB/s eta 0:00:01\r\u001b[K     |▊                               | 51kB 31.7MB/s eta 0:00:01\r\u001b[K     |▉                               | 61kB 34.2MB/s eta 0:00:01\r\u001b[K     |█                               | 71kB 28.0MB/s eta 0:00:01\r\u001b[K     |█▏                              | 81kB 29.4MB/s eta 0:00:01\r\u001b[K     |█▎                              | 92kB 30.7MB/s eta 0:00:01\r\u001b[K     |█▌                              | 102kB 31.2MB/s eta 0:00:01\r\u001b[K     |█▋                              | 112kB 31.2MB/s eta 0:00:01\r\u001b[K     |█▊                              | 122kB 31.2MB/s eta 0:00:01\r\u001b[K     |█▉                              | 133kB 31.2MB/s eta 0:00:01\r\u001b[K     |██                              | 143kB 31.2MB/s eta 0:00:01\r\u001b[K     |██▏                             | 153kB 31.2MB/s eta 0:00:01\r\u001b[K     |██▎                             | 163kB 31.2MB/s eta 0:00:01\r\u001b[K     |██▌                             | 174kB 31.2MB/s eta 0:00:01\r\u001b[K     |██▋                             | 184kB 31.2MB/s eta 0:00:01\r\u001b[K     |██▊                             | 194kB 31.2MB/s eta 0:00:01\r\u001b[K     |███                             | 204kB 31.2MB/s eta 0:00:01\r\u001b[K     |███                             | 215kB 31.2MB/s eta 0:00:01\r\u001b[K     |███▏                            | 225kB 31.2MB/s eta 0:00:01\r\u001b[K     |███▍                            | 235kB 31.2MB/s eta 0:00:01\r\u001b[K     |███▌                            | 245kB 31.2MB/s eta 0:00:01\r\u001b[K     |███▋                            | 256kB 31.2MB/s eta 0:00:01\r\u001b[K     |███▊                            | 266kB 31.2MB/s eta 0:00:01\r\u001b[K     |████                            | 276kB 31.2MB/s eta 0:00:01\r\u001b[K     |████                            | 286kB 31.2MB/s eta 0:00:01\r\u001b[K     |████▏                           | 296kB 31.2MB/s eta 0:00:01\r\u001b[K     |████▍                           | 307kB 31.2MB/s eta 0:00:01\r\u001b[K     |████▌                           | 317kB 31.2MB/s eta 0:00:01\r\u001b[K     |████▋                           | 327kB 31.2MB/s eta 0:00:01\r\u001b[K     |████▉                           | 337kB 31.2MB/s eta 0:00:01\r\u001b[K     |█████                           | 348kB 31.2MB/s eta 0:00:01\r\u001b[K     |█████                           | 358kB 31.2MB/s eta 0:00:01\r\u001b[K     |█████▏                          | 368kB 31.2MB/s eta 0:00:01\r\u001b[K     |█████▍                          | 378kB 31.2MB/s eta 0:00:01\r\u001b[K     |█████▌                          | 389kB 31.2MB/s eta 0:00:01\r\u001b[K     |█████▋                          | 399kB 31.2MB/s eta 0:00:01\r\u001b[K     |█████▉                          | 409kB 31.2MB/s eta 0:00:01\r\u001b[K     |██████                          | 419kB 31.2MB/s eta 0:00:01\r\u001b[K     |██████                          | 430kB 31.2MB/s eta 0:00:01\r\u001b[K     |██████▎                         | 440kB 31.2MB/s eta 0:00:01\r\u001b[K     |██████▍                         | 450kB 31.2MB/s eta 0:00:01\r\u001b[K     |██████▌                         | 460kB 31.2MB/s eta 0:00:01\r\u001b[K     |██████▊                         | 471kB 31.2MB/s eta 0:00:01\r\u001b[K     |██████▉                         | 481kB 31.2MB/s eta 0:00:01\r\u001b[K     |███████                         | 491kB 31.2MB/s eta 0:00:01\r\u001b[K     |███████                         | 501kB 31.2MB/s eta 0:00:01\r\u001b[K     |███████▎                        | 512kB 31.2MB/s eta 0:00:01\r\u001b[K     |███████▍                        | 522kB 31.2MB/s eta 0:00:01\r\u001b[K     |███████▌                        | 532kB 31.2MB/s eta 0:00:01\r\u001b[K     |███████▊                        | 542kB 31.2MB/s eta 0:00:01\r\u001b[K     |███████▉                        | 552kB 31.2MB/s eta 0:00:01\r\u001b[K     |████████                        | 563kB 31.2MB/s eta 0:00:01\r\u001b[K     |████████▏                       | 573kB 31.2MB/s eta 0:00:01\r\u001b[K     |████████▎                       | 583kB 31.2MB/s eta 0:00:01\r\u001b[K     |████████▍                       | 593kB 31.2MB/s eta 0:00:01\r\u001b[K     |████████▌                       | 604kB 31.2MB/s eta 0:00:01\r\u001b[K     |████████▊                       | 614kB 31.2MB/s eta 0:00:01\r\u001b[K     |████████▉                       | 624kB 31.2MB/s eta 0:00:01\r\u001b[K     |█████████                       | 634kB 31.2MB/s eta 0:00:01\r\u001b[K     |█████████▏                      | 645kB 31.2MB/s eta 0:00:01\r\u001b[K     |█████████▎                      | 655kB 31.2MB/s eta 0:00:01\r\u001b[K     |█████████▍                      | 665kB 31.2MB/s eta 0:00:01\r\u001b[K     |█████████▋                      | 675kB 31.2MB/s eta 0:00:01\r\u001b[K     |█████████▊                      | 686kB 31.2MB/s eta 0:00:01\r\u001b[K     |█████████▉                      | 696kB 31.2MB/s eta 0:00:01\r\u001b[K     |██████████                      | 706kB 31.2MB/s eta 0:00:01\r\u001b[K     |██████████▏                     | 716kB 31.2MB/s eta 0:00:01\r\u001b[K     |██████████▎                     | 727kB 31.2MB/s eta 0:00:01\r\u001b[K     |██████████▍                     | 737kB 31.2MB/s eta 0:00:01\r\u001b[K     |██████████▋                     | 747kB 31.2MB/s eta 0:00:01\r\u001b[K     |██████████▊                     | 757kB 31.2MB/s eta 0:00:01\r\u001b[K     |██████████▉                     | 768kB 31.2MB/s eta 0:00:01\r\u001b[K     |███████████                     | 778kB 31.2MB/s eta 0:00:01\r\u001b[K     |███████████▏                    | 788kB 31.2MB/s eta 0:00:01\r\u001b[K     |███████████▎                    | 798kB 31.2MB/s eta 0:00:01\r\u001b[K     |███████████▌                    | 808kB 31.2MB/s eta 0:00:01\r\u001b[K     |███████████▋                    | 819kB 31.2MB/s eta 0:00:01\r\u001b[K     |███████████▊                    | 829kB 31.2MB/s eta 0:00:01\r\u001b[K     |███████████▉                    | 839kB 31.2MB/s eta 0:00:01\r\u001b[K     |████████████                    | 849kB 31.2MB/s eta 0:00:01\r\u001b[K     |████████████▏                   | 860kB 31.2MB/s eta 0:00:01\r\u001b[K     |████████████▎                   | 870kB 31.2MB/s eta 0:00:01\r\u001b[K     |████████████▌                   | 880kB 31.2MB/s eta 0:00:01\r\u001b[K     |████████████▋                   | 890kB 31.2MB/s eta 0:00:01\r\u001b[K     |████████████▊                   | 901kB 31.2MB/s eta 0:00:01\r\u001b[K     |█████████████                   | 911kB 31.2MB/s eta 0:00:01\r\u001b[K     |█████████████                   | 921kB 31.2MB/s eta 0:00:01\r\u001b[K     |█████████████▏                  | 931kB 31.2MB/s eta 0:00:01\r\u001b[K     |█████████████▍                  | 942kB 31.2MB/s eta 0:00:01\r\u001b[K     |█████████████▌                  | 952kB 31.2MB/s eta 0:00:01\r\u001b[K     |█████████████▋                  | 962kB 31.2MB/s eta 0:00:01\r\u001b[K     |█████████████▊                  | 972kB 31.2MB/s eta 0:00:01\r\u001b[K     |██████████████                  | 983kB 31.2MB/s eta 0:00:01\r\u001b[K     |██████████████                  | 993kB 31.2MB/s eta 0:00:01\r\u001b[K     |██████████████▏                 | 1.0MB 31.2MB/s eta 0:00:01\r\u001b[K     |██████████████▍                 | 1.0MB 31.2MB/s eta 0:00:01\r\u001b[K     |██████████████▌                 | 1.0MB 31.2MB/s eta 0:00:01\r\u001b[K     |██████████████▋                 | 1.0MB 31.2MB/s eta 0:00:01\r\u001b[K     |██████████████▉                 | 1.0MB 31.2MB/s eta 0:00:01\r\u001b[K     |███████████████                 | 1.1MB 31.2MB/s eta 0:00:01\r\u001b[K     |███████████████                 | 1.1MB 31.2MB/s eta 0:00:01\r\u001b[K     |███████████████▏                | 1.1MB 31.2MB/s eta 0:00:01\r\u001b[K     |███████████████▍                | 1.1MB 31.2MB/s eta 0:00:01\r\u001b[K     |███████████████▌                | 1.1MB 31.2MB/s eta 0:00:01\r\u001b[K     |███████████████▋                | 1.1MB 31.2MB/s eta 0:00:01\r\u001b[K     |███████████████▉                | 1.1MB 31.2MB/s eta 0:00:01\r\u001b[K     |████████████████                | 1.1MB 31.2MB/s eta 0:00:01\r\u001b[K     |████████████████                | 1.1MB 31.2MB/s eta 0:00:01\r\u001b[K     |████████████████▎               | 1.1MB 31.2MB/s eta 0:00:01\r\u001b[K     |████████████████▍               | 1.2MB 31.2MB/s eta 0:00:01\r\u001b[K     |████████████████▌               | 1.2MB 31.2MB/s eta 0:00:01\r\u001b[K     |████████████████▊               | 1.2MB 31.2MB/s eta 0:00:01\r\u001b[K     |████████████████▉               | 1.2MB 31.2MB/s eta 0:00:01\r\u001b[K     |█████████████████               | 1.2MB 31.2MB/s eta 0:00:01\r\u001b[K     |█████████████████               | 1.2MB 31.2MB/s eta 0:00:01\r\u001b[K     |█████████████████▎              | 1.2MB 31.2MB/s eta 0:00:01\r\u001b[K     |█████████████████▍              | 1.2MB 31.2MB/s eta 0:00:01\r\u001b[K     |█████████████████▌              | 1.2MB 31.2MB/s eta 0:00:01\r\u001b[K     |█████████████████▊              | 1.2MB 31.2MB/s eta 0:00:01\r\u001b[K     |█████████████████▉              | 1.3MB 31.2MB/s eta 0:00:01\r\u001b[K     |██████████████████              | 1.3MB 31.2MB/s eta 0:00:01\r\u001b[K     |██████████████████▏             | 1.3MB 31.2MB/s eta 0:00:01\r\u001b[K     |██████████████████▎             | 1.3MB 31.2MB/s eta 0:00:01\r\u001b[K     |██████████████████▍             | 1.3MB 31.2MB/s eta 0:00:01\r\u001b[K     |██████████████████▋             | 1.3MB 31.2MB/s eta 0:00:01\r\u001b[K     |██████████████████▊             | 1.3MB 31.2MB/s eta 0:00:01\r\u001b[K     |██████████████████▉             | 1.3MB 31.2MB/s eta 0:00:01\r\u001b[K     |███████████████████             | 1.3MB 31.2MB/s eta 0:00:01\r\u001b[K     |███████████████████▏            | 1.4MB 31.2MB/s eta 0:00:01\r\u001b[K     |███████████████████▎            | 1.4MB 31.2MB/s eta 0:00:01\r\u001b[K     |███████████████████▍            | 1.4MB 31.2MB/s eta 0:00:01\r\u001b[K     |███████████████████▋            | 1.4MB 31.2MB/s eta 0:00:01\r\u001b[K     |███████████████████▊            | 1.4MB 31.2MB/s eta 0:00:01\r\u001b[K     |███████████████████▉            | 1.4MB 31.2MB/s eta 0:00:01\r\u001b[K     |████████████████████            | 1.4MB 31.2MB/s eta 0:00:01\r\u001b[K     |████████████████████▏           | 1.4MB 31.2MB/s eta 0:00:01\r\u001b[K     |████████████████████▎           | 1.4MB 31.2MB/s eta 0:00:01\r\u001b[K     |████████████████████▍           | 1.4MB 31.2MB/s eta 0:00:01\r\u001b[K     |████████████████████▋           | 1.5MB 31.2MB/s eta 0:00:01\r\u001b[K     |████████████████████▊           | 1.5MB 31.2MB/s eta 0:00:01\r\u001b[K     |████████████████████▉           | 1.5MB 31.2MB/s eta 0:00:01\r\u001b[K     |█████████████████████           | 1.5MB 31.2MB/s eta 0:00:01\r\u001b[K     |█████████████████████▏          | 1.5MB 31.2MB/s eta 0:00:01\r\u001b[K     |█████████████████████▎          | 1.5MB 31.2MB/s eta 0:00:01\r\u001b[K     |█████████████████████▌          | 1.5MB 31.2MB/s eta 0:00:01\r\u001b[K     |█████████████████████▋          | 1.5MB 31.2MB/s eta 0:00:01\r\u001b[K     |█████████████████████▊          | 1.5MB 31.2MB/s eta 0:00:01\r\u001b[K     |██████████████████████          | 1.5MB 31.2MB/s eta 0:00:01\r\u001b[K     |██████████████████████          | 1.6MB 31.2MB/s eta 0:00:01\r\u001b[K     |██████████████████████▏         | 1.6MB 31.2MB/s eta 0:00:01\r\u001b[K     |██████████████████████▎         | 1.6MB 31.2MB/s eta 0:00:01\r\u001b[K     |██████████████████████▌         | 1.6MB 31.2MB/s eta 0:00:01\r\u001b[K     |██████████████████████▋         | 1.6MB 31.2MB/s eta 0:00:01\r\u001b[K     |██████████████████████▊         | 1.6MB 31.2MB/s eta 0:00:01\r\u001b[K     |███████████████████████         | 1.6MB 31.2MB/s eta 0:00:01\r\u001b[K     |███████████████████████         | 1.6MB 31.2MB/s eta 0:00:01\r\u001b[K     |███████████████████████▏        | 1.6MB 31.2MB/s eta 0:00:01\r\u001b[K     |███████████████████████▍        | 1.6MB 31.2MB/s eta 0:00:01\r\u001b[K     |███████████████████████▌        | 1.7MB 31.2MB/s eta 0:00:01\r\u001b[K     |███████████████████████▋        | 1.7MB 31.2MB/s eta 0:00:01\r\u001b[K     |███████████████████████▊        | 1.7MB 31.2MB/s eta 0:00:01\r\u001b[K     |████████████████████████        | 1.7MB 31.2MB/s eta 0:00:01\r\u001b[K     |████████████████████████        | 1.7MB 31.2MB/s eta 0:00:01\r\u001b[K     |████████████████████████▏       | 1.7MB 31.2MB/s eta 0:00:01\r\u001b[K     |████████████████████████▍       | 1.7MB 31.2MB/s eta 0:00:01\r\u001b[K     |████████████████████████▌       | 1.7MB 31.2MB/s eta 0:00:01\r\u001b[K     |████████████████████████▋       | 1.7MB 31.2MB/s eta 0:00:01\r\u001b[K     |████████████████████████▉       | 1.8MB 31.2MB/s eta 0:00:01\r\u001b[K     |█████████████████████████       | 1.8MB 31.2MB/s eta 0:00:01\r\u001b[K     |█████████████████████████       | 1.8MB 31.2MB/s eta 0:00:01\r\u001b[K     |█████████████████████████▎      | 1.8MB 31.2MB/s eta 0:00:01\r\u001b[K     |█████████████████████████▍      | 1.8MB 31.2MB/s eta 0:00:01\r\u001b[K     |█████████████████████████▌      | 1.8MB 31.2MB/s eta 0:00:01\r\u001b[K     |█████████████████████████▋      | 1.8MB 31.2MB/s eta 0:00:01\r\u001b[K     |█████████████████████████▉      | 1.8MB 31.2MB/s eta 0:00:01\r\u001b[K     |██████████████████████████      | 1.8MB 31.2MB/s eta 0:00:01\r\u001b[K     |██████████████████████████      | 1.8MB 31.2MB/s eta 0:00:01\r\u001b[K     |██████████████████████████▎     | 1.9MB 31.2MB/s eta 0:00:01\r\u001b[K     |██████████████████████████▍     | 1.9MB 31.2MB/s eta 0:00:01\r\u001b[K     |██████████████████████████▌     | 1.9MB 31.2MB/s eta 0:00:01\r\u001b[K     |██████████████████████████▊     | 1.9MB 31.2MB/s eta 0:00:01\r\u001b[K     |██████████████████████████▉     | 1.9MB 31.2MB/s eta 0:00:01\r\u001b[K     |███████████████████████████     | 1.9MB 31.2MB/s eta 0:00:01\r\u001b[K     |███████████████████████████     | 1.9MB 31.2MB/s eta 0:00:01\r\u001b[K     |███████████████████████████▎    | 1.9MB 31.2MB/s eta 0:00:01\r\u001b[K     |███████████████████████████▍    | 1.9MB 31.2MB/s eta 0:00:01\r\u001b[K     |███████████████████████████▌    | 1.9MB 31.2MB/s eta 0:00:01\r\u001b[K     |███████████████████████████▊    | 2.0MB 31.2MB/s eta 0:00:01\r\u001b[K     |███████████████████████████▉    | 2.0MB 31.2MB/s eta 0:00:01\r\u001b[K     |████████████████████████████    | 2.0MB 31.2MB/s eta 0:00:01\r\u001b[K     |████████████████████████████▏   | 2.0MB 31.2MB/s eta 0:00:01\r\u001b[K     |████████████████████████████▎   | 2.0MB 31.2MB/s eta 0:00:01\r\u001b[K     |████████████████████████████▍   | 2.0MB 31.2MB/s eta 0:00:01\r\u001b[K     |████████████████████████████▋   | 2.0MB 31.2MB/s eta 0:00:01\r\u001b[K     |████████████████████████████▊   | 2.0MB 31.2MB/s eta 0:00:01\r\u001b[K     |████████████████████████████▉   | 2.0MB 31.2MB/s eta 0:00:01\r\u001b[K     |█████████████████████████████   | 2.0MB 31.2MB/s eta 0:00:01\r\u001b[K     |█████████████████████████████▏  | 2.1MB 31.2MB/s eta 0:00:01\r\u001b[K     |█████████████████████████████▎  | 2.1MB 31.2MB/s eta 0:00:01\r\u001b[K     |█████████████████████████████▍  | 2.1MB 31.2MB/s eta 0:00:01\r\u001b[K     |█████████████████████████████▋  | 2.1MB 31.2MB/s eta 0:00:01\r\u001b[K     |█████████████████████████████▊  | 2.1MB 31.2MB/s eta 0:00:01\r\u001b[K     |█████████████████████████████▉  | 2.1MB 31.2MB/s eta 0:00:01\r\u001b[K     |██████████████████████████████  | 2.1MB 31.2MB/s eta 0:00:01\r\u001b[K     |██████████████████████████████▏ | 2.1MB 31.2MB/s eta 0:00:01\r\u001b[K     |██████████████████████████████▎ | 2.1MB 31.2MB/s eta 0:00:01\r\u001b[K     |██████████████████████████████▍ | 2.2MB 31.2MB/s eta 0:00:01\r\u001b[K     |██████████████████████████████▋ | 2.2MB 31.2MB/s eta 0:00:01\r\u001b[K     |██████████████████████████████▊ | 2.2MB 31.2MB/s eta 0:00:01\r\u001b[K     |██████████████████████████████▉ | 2.2MB 31.2MB/s eta 0:00:01\r\u001b[K     |███████████████████████████████ | 2.2MB 31.2MB/s eta 0:00:01\r\u001b[K     |███████████████████████████████▏| 2.2MB 31.2MB/s eta 0:00:01\r\u001b[K     |███████████████████████████████▎| 2.2MB 31.2MB/s eta 0:00:01\r\u001b[K     |███████████████████████████████▌| 2.2MB 31.2MB/s eta 0:00:01\r\u001b[K     |███████████████████████████████▋| 2.2MB 31.2MB/s eta 0:00:01\r\u001b[K     |███████████████████████████████▊| 2.2MB 31.2MB/s eta 0:00:01\r\u001b[K     |████████████████████████████████| 2.3MB 31.2MB/s eta 0:00:01\r\u001b[K     |████████████████████████████████| 2.3MB 31.2MB/s \n",
            "\u001b[?25hRequirement already satisfied: opencv-python>=4.1.0 in /usr/local/lib/python3.7/dist-packages (from mtcnn) (4.1.2.30)\n",
            "Requirement already satisfied: keras>=2.0.0 in /usr/local/lib/python3.7/dist-packages (from mtcnn) (2.4.3)\n",
            "Requirement already satisfied: numpy>=1.14.5 in /usr/local/lib/python3.7/dist-packages (from opencv-python>=4.1.0->mtcnn) (1.19.5)\n",
            "Requirement already satisfied: pyyaml in /usr/local/lib/python3.7/dist-packages (from keras>=2.0.0->mtcnn) (3.13)\n",
            "Requirement already satisfied: scipy>=0.14 in /usr/local/lib/python3.7/dist-packages (from keras>=2.0.0->mtcnn) (1.4.1)\n",
            "Requirement already satisfied: h5py in /usr/local/lib/python3.7/dist-packages (from keras>=2.0.0->mtcnn) (3.1.0)\n",
            "Requirement already satisfied: cached-property; python_version < \"3.8\" in /usr/local/lib/python3.7/dist-packages (from h5py->keras>=2.0.0->mtcnn) (1.5.2)\n",
            "Installing collected packages: mtcnn\n",
            "Successfully installed mtcnn-0.1.0\n"
          ],
          "name": "stdout"
        }
      ]
    },
    {
      "cell_type": "code",
      "metadata": {
        "colab": {
          "base_uri": "https://localhost:8080/"
        },
        "id": "ComBhEebYHwK",
        "outputId": "28a2627b-04f3-44d7-d026-f3a6ab0d85e8"
      },
      "source": [
        "pip install mtcnn\n"
      ],
      "execution_count": null,
      "outputs": [
        {
          "output_type": "stream",
          "text": [
            "Collecting mtcnn\n",
            "\u001b[?25l  Downloading https://files.pythonhosted.org/packages/09/d1/2a4269e387edb97484157b872fa8a1953b53dcafbe4842a1967f549ac5ea/mtcnn-0.1.1-py3-none-any.whl (2.3MB)\n",
            "\u001b[K     |████████████████████████████████| 2.3MB 9.6MB/s \n",
            "\u001b[?25hRequirement already satisfied: opencv-python>=4.1.0 in /usr/local/lib/python3.7/dist-packages (from mtcnn) (4.1.2.30)\n",
            "Requirement already satisfied: keras>=2.0.0 in /usr/local/lib/python3.7/dist-packages (from mtcnn) (2.4.3)\n",
            "Requirement already satisfied: numpy>=1.14.5 in /usr/local/lib/python3.7/dist-packages (from opencv-python>=4.1.0->mtcnn) (1.19.5)\n",
            "Requirement already satisfied: h5py in /usr/local/lib/python3.7/dist-packages (from keras>=2.0.0->mtcnn) (3.1.0)\n",
            "Requirement already satisfied: pyyaml in /usr/local/lib/python3.7/dist-packages (from keras>=2.0.0->mtcnn) (3.13)\n",
            "Requirement already satisfied: scipy>=0.14 in /usr/local/lib/python3.7/dist-packages (from keras>=2.0.0->mtcnn) (1.4.1)\n",
            "Requirement already satisfied: cached-property; python_version < \"3.8\" in /usr/local/lib/python3.7/dist-packages (from h5py->keras>=2.0.0->mtcnn) (1.5.2)\n",
            "Installing collected packages: mtcnn\n",
            "Successfully installed mtcnn-0.1.1\n"
          ],
          "name": "stdout"
        }
      ]
    },
    {
      "cell_type": "code",
      "metadata": {
        "colab": {
          "base_uri": "https://localhost:8080/"
        },
        "id": "Qohep9Z7ibgd",
        "outputId": "f972dc7c-475a-42e1-d54d-c423c8fe8537"
      },
      "source": [
        "from os import listdir\n",
        "from os.path import isdir\n",
        "from PIL import Image\n",
        "from matplotlib import pyplot\n",
        "from numpy import savez_compressed\n",
        "from numpy import asarray\n",
        "#from mtcnn import MTCNN\n",
        "import cv2\n",
        " \n",
        "# extract a single face from a given photograph\n",
        "def extract_face(filename, required_size=(160, 160)):\n",
        "\t# load image from file\n",
        "  image = Image.open(filename)\n",
        "\t# convert to RGB, if needed\n",
        "  image = image.convert('RGB')\n",
        "\t# convert to array\n",
        "  pixels = asarray(image)\n",
        "  grey=cv2.cvtColor(pixels, cv2.cv2.COLOR_RGB2GRAY)\n",
        " \n",
        "\t# create the detector, using default weights\n",
        "  #detector = MTCNN()\n",
        "\t# detect faces in the image\n",
        "  #results = detector.detect_faces(pixels)\n",
        "\t# extract the bounding box from the first face\n",
        "  face_detect= cv2.CascadeClassifier(\"/content/drive/MyDrive/Deep_Learning/haarcascade_frontalface_default.xml\")\n",
        "  faces=face_detect.detectMultiScale(grey)\n",
        "  p=0\n",
        "  #face=pixels[y1:y1+h,x1:x1+h]\n",
        "  for (x,y,w,h) in faces:\n",
        "    if(p==1):\n",
        "      break\n",
        "    x,y=abs(x),abs(y)\n",
        "    face=pixels[y:y+h,x:x+w]\n",
        "    p=p+1\n",
        "\t# bug fix\n",
        "\t\n",
        "\t# resize pixels to the model size\n",
        "    image = Image.fromarray(face)\n",
        "    image = image.resize(required_size)\n",
        "    face_array = asarray(image)\n",
        "    return face_array\n",
        " \n",
        "# load images and extract faces for all images in a directory\n",
        "def load_faces(directory):\n",
        "  faces = list()\n",
        "\t# enumerate files\n",
        "  for filename in listdir(directory):\n",
        "\t\t# path\n",
        "    path = directory + filename\n",
        "\t\t# get face\n",
        "    face = extract_face(path)\n",
        "\t\t# store\n",
        "    if(not face is None):\n",
        "      faces.append(face)\n",
        "  return faces\n",
        " \n",
        "# load a dataset that contains one subdir for each class that in turn contains images\n",
        "def load_dataset(directory):\n",
        "\tX, y = list(), list()\n",
        "\t# enumerate folders, on per class\n",
        "\tfor subdir in listdir(directory):\n",
        "\t\t# path\n",
        "\t\tpath = directory + subdir + '/'\n",
        "\t\t# skip any files that might be in the dir\n",
        "\t\tif not isdir(path):\n",
        "\t\t\tcontinue\n",
        "\t\t# load all faces in the subdirectory\n",
        "\t\tfaces = load_faces(path)\n",
        "\t\t# create labels\n",
        "\t\tlabels = [subdir for _ in range(len(faces))]\n",
        "\t\t# summarize progress\n",
        "\t\tprint('>loaded %d examples for class: %s' % (len(faces), subdir))\n",
        "\t\t# store\n",
        "\t\tX.extend(faces)\n",
        "\t\ty.extend(labels)\n",
        "\treturn asarray(X), asarray(y)\n",
        " \n",
        "# load train dataset\n",
        "#insert path of folder where training data is present with \"/\" at last\n",
        "trainX, trainy = load_dataset('/content/drive/MyDrive/Deep_Learning/105_classes_pins_dataset/train/')\n",
        "print(trainX.shape, trainy.shape)\n",
        "# load test dataset\n",
        "#insert path of folder where test data is present with \"/\" at last\n",
        "testX, testy = load_dataset('/content/drive/MyDrive/Deep_Learning/105_classes_pins_dataset/test/')\n",
        "# save arrays to one file in compressed format\n",
        "savez_compressed('5-celebrity-faces-dataset.npz', trainX, trainy, testX, testy)"
      ],
      "execution_count": 16,
      "outputs": [
        {
          "output_type": "stream",
          "text": [
            ">loaded 82 examples for class: pins_Pedro Alonso\n",
            ">loaded 142 examples for class: pins_Adriana Lima\n",
            ">loaded 64 examples for class: pins_Mark Zuckerberg\n",
            ">loaded 72 examples for class: pins_Bobby Morley\n",
            ">loaded 117 examples for class: pins_Jason Momoa\n",
            ">loaded 118 examples for class: pins_Jennifer Lawrence\n",
            ">loaded 143 examples for class: pins_Megan Fox\n",
            ">loaded 154 examples for class: pins_Logan Lerman\n",
            ">loaded 120 examples for class: pins_Chris Pratt\n",
            ">loaded 120 examples for class: pins_Morena Baccarin\n",
            ">loaded 108 examples for class: pins_Jeremy Renner\n",
            ">loaded 99 examples for class: pins_Miley Cyrus\n",
            ">loaded 161 examples for class: pins_Leonardo DiCaprio\n",
            ">loaded 113 examples for class: pins_Brie Larson\n",
            ">loaded 148 examples for class: pins_Sophie Turner\n",
            ">loaded 127 examples for class: pins_Emilia Clarke\n",
            ">loaded 132 examples for class: pins_scarlett johansson\n",
            ">loaded 95 examples for class: pins_Avril Lavigne\n",
            ">loaded 58 examples for class: pins_Morgan Freeman\n",
            ">loaded 101 examples for class: pins_Rami Malek\n",
            ">loaded 124 examples for class: pins_Zoe Saldana\n",
            ">loaded 94 examples for class: pins_Richard Harmon\n",
            ">loaded 83 examples for class: pins_Alvaro Morte\n",
            ">loaded 136 examples for class: pins_alycia dabnem carey\n",
            ">loaded 70 examples for class: pins_Taylor Swift\n",
            ">loaded 65 examples for class: pins_Brian J. Smith\n",
            ">loaded 87 examples for class: pins_Emma Stone\n",
            ">loaded 93 examples for class: pins_Alex Lawther\n",
            ">loaded 103 examples for class: pins_Elizabeth Lail\n",
            ">loaded 87 examples for class: pins_Rihanna\n",
            ">loaded 109 examples for class: pins_Marie Avgeropoulos\n",
            ">loaded 165 examples for class: pins_Alexandra Daddario\n",
            ">loaded 138 examples for class: pins_amber heard\n",
            ">loaded 106 examples for class: pins_Eliza Taylor\n",
            ">loaded 83 examples for class: pins_Ben Affleck\n",
            ">loaded 104 examples for class: pins_Irina Shayk\n",
            ">loaded 110 examples for class: pins_Madelaine Petsch\n",
            ">loaded 139 examples for class: pins_Robert Downey Jr\n",
            ">loaded 121 examples for class: pins_Tom Holland\n",
            ">loaded 74 examples for class: pins_Bill Gates\n",
            ">loaded 116 examples for class: pins_Rebecca Ferguson\n",
            ">loaded 104 examples for class: pins_Keanu Reeves\n",
            ">loaded 87 examples for class: pins_elon musk\n",
            ">loaded 103 examples for class: pins_Christian Bale\n",
            ">loaded 117 examples for class: pins_Millie Bobby Brown\n",
            ">loaded 127 examples for class: pins_Tom Cruise\n",
            ">loaded 122 examples for class: pins_Zac Efron\n",
            ">loaded 126 examples for class: pins_Andy Samberg\n",
            ">loaded 102 examples for class: pins_Chris Hemsworth\n",
            ">loaded 100 examples for class: pins_Shakira Isabel Mebarak\n",
            ">loaded 90 examples for class: pins_Dominic Purcell\n",
            ">loaded 91 examples for class: pins_Lili Reinhart\n",
            ">loaded 66 examples for class: pins_jeff bezos\n",
            ">loaded 120 examples for class: pins_Natalie Dormer\n",
            ">loaded 119 examples for class: pins_Hugh Jackman\n",
            ">loaded 105 examples for class: pins_Sarah Wayne Callies\n",
            ">loaded 86 examples for class: pins_Ursula Corbero\n",
            ">loaded 134 examples for class: pins_kiernen shipka\n",
            ">loaded 74 examples for class: pins_barack obama\n",
            ">loaded 109 examples for class: pins_Wentworth Miller\n",
            ">loaded 116 examples for class: pins_grant gustin\n",
            ">loaded 108 examples for class: pins_Jake Mcdorman\n",
            ">loaded 109 examples for class: pins_barbara palvin\n",
            ">loaded 110 examples for class: pins_Krysten Ritter\n",
            ">loaded 116 examples for class: pins_Tom Hardy\n",
            ">loaded 124 examples for class: pins_Henry Cavil\n",
            ">loaded 117 examples for class: pins_Katharine Mcphee\n",
            ">loaded 114 examples for class: pins_Mark Ruffalo\n",
            ">loaded 126 examples for class: pins_Gwyneth Paltrow\n",
            ">loaded 69 examples for class: pins_Anthony Mackie\n",
            ">loaded 73 examples for class: pins_Jimmy Fallon\n",
            ">loaded 75 examples for class: pins_Josh Radnor\n",
            ">loaded 117 examples for class: pins_Danielle Panabaker\n",
            ">loaded 112 examples for class: pins_tom ellis\n",
            ">loaded 54 examples for class: pins_Lionel Messi\n",
            ">loaded 60 examples for class: pins_Cristiano Ronaldo\n",
            ">loaded 112 examples for class: pins_Penn Badgley\n",
            ">loaded 98 examples for class: pins_Chris Evans\n",
            ">loaded 146 examples for class: pins_elizabeth olsen\n",
            ">loaded 149 examples for class: pins_Katherine Langford\n",
            ">loaded 127 examples for class: pins_Emma Watson\n",
            ">loaded 120 examples for class: pins_Johnny Depp\n",
            ">loaded 116 examples for class: pins_gal gadot\n",
            ">loaded 115 examples for class: pins_Tom Hiddleston\n",
            ">loaded 92 examples for class: pins_Jessica Barden\n",
            ">loaded 75 examples for class: pins_Neil Patrick Harris\n",
            ">loaded 134 examples for class: pins_margot robbie\n",
            ">loaded 124 examples for class: pins_Maisie Williams\n",
            ">loaded 102 examples for class: pins_camila mendes\n",
            ">loaded 82 examples for class: pins_Zendaya\n",
            ">loaded 72 examples for class: pins_Dwayne Johnson\n",
            ">loaded 107 examples for class: pins_Stephen Amell\n",
            ">loaded 70 examples for class: pins_Maria Pedraza\n",
            ">loaded 108 examples for class: pins_Selena Gomez\n",
            ">loaded 139 examples for class: pins_Anne Hathaway\n",
            ">loaded 83 examples for class: pins_Inbar Lavi\n",
            ">loaded 107 examples for class: pins_Lindsey Morgan\n",
            ">loaded 79 examples for class: pins_Amanda Crew\n",
            ">loaded 99 examples for class: pins_Robert De Niro\n",
            ">loaded 83 examples for class: pins_Nadia Hilker\n",
            ">loaded 108 examples for class: pins_Natalie Portman\n",
            ">loaded 90 examples for class: pins_Tuppence Middleton\n",
            ">loaded 133 examples for class: pins_Brenton Thwaites\n",
            ">loaded 104 examples for class: pins_melissa fumero\n",
            ">loaded 126 examples for class: pins_ellen page\n",
            "(11163, 160, 160, 3) (11163,)\n",
            ">loaded 49 examples for class: pins_Chris Pratt\n",
            ">loaded 53 examples for class: pins_Jason Momoa\n",
            ">loaded 27 examples for class: pins_Mark Zuckerberg\n",
            ">loaded 32 examples for class: pins_Pedro Alonso\n",
            ">loaded 56 examples for class: pins_Megan Fox\n",
            ">loaded 53 examples for class: pins_Jennifer Lawrence\n",
            ">loaded 61 examples for class: pins_Logan Lerman\n",
            ">loaded 57 examples for class: pins_Adriana Lima\n",
            ">loaded 32 examples for class: pins_Bobby Morley\n",
            ">loaded 41 examples for class: pins_Avril Lavigne\n",
            ">loaded 57 examples for class: pins_scarlett johansson\n",
            ">loaded 40 examples for class: pins_Morgan Freeman\n",
            ">loaded 51 examples for class: pins_Morena Baccarin\n",
            ">loaded 66 examples for class: pins_Leonardo DiCaprio\n",
            ">loaded 43 examples for class: pins_Brie Larson\n",
            ">loaded 46 examples for class: pins_Jeremy Renner\n",
            ">loaded 58 examples for class: pins_Sophie Turner\n",
            ">loaded 41 examples for class: pins_Miley Cyrus\n",
            ">loaded 60 examples for class: pins_Emilia Clarke\n",
            ">loaded 44 examples for class: pins_Rami Malek\n",
            ">loaded 32 examples for class: pins_Taylor Swift\n",
            ">loaded 37 examples for class: pins_Emma Stone\n",
            ">loaded 53 examples for class: pins_Zoe Saldana\n",
            ">loaded 40 examples for class: pins_Alex Lawther\n",
            ">loaded 46 examples for class: pins_Elizabeth Lail\n",
            ">loaded 34 examples for class: pins_Alvaro Morte\n",
            ">loaded 37 examples for class: pins_Richard Harmon\n",
            ">loaded 29 examples for class: pins_Brian J. Smith\n",
            ">loaded 54 examples for class: pins_alycia dabnem carey\n",
            ">loaded 33 examples for class: pins_Rihanna\n",
            ">loaded 44 examples for class: pins_Marie Avgeropoulos\n",
            ">loaded 51 examples for class: pins_Tom Holland\n",
            ">loaded 67 examples for class: pins_Robert Downey Jr\n",
            ">loaded 66 examples for class: pins_Alexandra Daddario\n",
            ">loaded 46 examples for class: pins_Irina Shayk\n",
            ">loaded 60 examples for class: pins_amber heard\n",
            ">loaded 50 examples for class: pins_Rebecca Ferguson\n",
            ">loaded 43 examples for class: pins_Eliza Taylor\n",
            ">loaded 30 examples for class: pins_Bill Gates\n",
            ">loaded 47 examples for class: pins_Madelaine Petsch\n",
            ">loaded 34 examples for class: pins_Ben Affleck\n",
            ">loaded 43 examples for class: pins_Keanu Reeves\n",
            ">loaded 43 examples for class: pins_Shakira Isabel Mebarak\n",
            ">loaded 46 examples for class: pins_Chris Hemsworth\n",
            ">loaded 56 examples for class: pins_Andy Samberg\n",
            ">loaded 41 examples for class: pins_Dominic Purcell\n",
            ">loaded 55 examples for class: pins_Zac Efron\n",
            ">loaded 47 examples for class: pins_Christian Bale\n",
            ">loaded 41 examples for class: pins_Lili Reinhart\n",
            ">loaded 49 examples for class: pins_Tom Cruise\n",
            ">loaded 50 examples for class: pins_Millie Bobby Brown\n",
            ">loaded 37 examples for class: pins_elon musk\n",
            ">loaded 31 examples for class: pins_jeff bezos\n",
            ">loaded 46 examples for class: pins_Natalie Dormer\n",
            ">loaded 29 examples for class: pins_barack obama\n",
            ">loaded 55 examples for class: pins_grant gustin\n",
            ">loaded 52 examples for class: pins_barbara palvin\n",
            ">loaded 42 examples for class: pins_Sarah Wayne Callies\n",
            ">loaded 49 examples for class: pins_Wentworth Miller\n",
            ">loaded 47 examples for class: pins_Jake Mcdorman\n",
            ">loaded 57 examples for class: pins_kiernen shipka\n",
            ">loaded 52 examples for class: pins_Hugh Jackman\n",
            ">loaded 44 examples for class: pins_Ursula Corbero\n",
            ">loaded 48 examples for class: pins_Krysten Ritter\n",
            ">loaded 53 examples for class: pins_Tom Hardy\n",
            ">loaded 53 examples for class: pins_Katharine Mcphee\n",
            ">loaded 31 examples for class: pins_Anthony Mackie\n",
            ">loaded 74 examples for class: pins_Gwyneth Paltrow\n",
            ">loaded 49 examples for class: pins_tom ellis\n",
            ">loaded 53 examples for class: pins_Henry Cavil\n",
            ">loaded 50 examples for class: pins_Mark Ruffalo\n",
            ">loaded 32 examples for class: pins_Jimmy Fallon\n",
            ">loaded 55 examples for class: pins_Danielle Panabaker\n",
            ">loaded 34 examples for class: pins_Josh Radnor\n",
            ">loaded 23 examples for class: pins_Lionel Messi\n",
            ">loaded 28 examples for class: pins_Cristiano Ronaldo\n",
            ">loaded 50 examples for class: pins_gal gadot\n",
            ">loaded 65 examples for class: pins_Katherine Langford\n",
            ">loaded 63 examples for class: pins_Tom Hiddleston\n",
            ">loaded 41 examples for class: pins_Jessica Barden\n",
            ">loaded 38 examples for class: pins_Dwayne Johnson\n",
            ">loaded 50 examples for class: pins_Johnny Depp\n",
            ">loaded 35 examples for class: pins_Neil Patrick Harris\n",
            ">loaded 49 examples for class: pins_Lindsey Morgan\n",
            ">loaded 62 examples for class: pins_margot robbie\n",
            ">loaded 43 examples for class: pins_Chris Evans\n",
            ">loaded 55 examples for class: pins_Maisie Williams\n",
            ">loaded 48 examples for class: pins_Penn Badgley\n",
            ">loaded 62 examples for class: pins_elizabeth olsen\n",
            ">loaded 69 examples for class: pins_Emma Watson\n",
            ">loaded 46 examples for class: pins_camila mendes\n",
            ">loaded 42 examples for class: pins_Stephen Amell\n",
            ">loaded 41 examples for class: pins_Robert De Niro\n",
            ">loaded 53 examples for class: pins_Selena Gomez\n",
            ">loaded 58 examples for class: pins_Brenton Thwaites\n",
            ">loaded 42 examples for class: pins_Inbar Lavi\n",
            ">loaded 37 examples for class: pins_Zendaya\n",
            ">loaded 25 examples for class: pins_Maria Pedraza\n",
            ">loaded 36 examples for class: pins_Nadia Hilker\n",
            ">loaded 36 examples for class: pins_Amanda Crew\n",
            ">loaded 54 examples for class: pins_Anne Hathaway\n",
            ">loaded 56 examples for class: pins_ellen page\n",
            ">loaded 47 examples for class: pins_Natalie Portman\n",
            ">loaded 42 examples for class: pins_melissa fumero\n",
            ">loaded 38 examples for class: pins_Tuppence Middleton\n"
          ],
          "name": "stdout"
        }
      ]
    },
    {
      "cell_type": "code",
      "metadata": {
        "colab": {
          "base_uri": "https://localhost:8080/",
          "height": 140
        },
        "id": "hsi0XO9ytoho",
        "outputId": "ef7fb729-b4d8-4788-9b3e-cdab14e68752"
      },
      "source": [
        "'''\n",
        "folder = '/content/drive/MyDrive/Deep_Learning/105_classes_pins_dataset/train/pins_Adriana Lima/'\n",
        "i = 1\n",
        "# enumerate files\n",
        "for filename in listdir(folder):\n",
        "\t# path\n",
        "  path = folder + filename\n",
        "\t# get face\n",
        "  face = extract_face(path)\n",
        "  if(not face is None):\n",
        "     print(i, face.shape)\n",
        "\t# plot\n",
        "     pyplot.subplot(2,7, i)\n",
        "     pyplot.axis('off')\n",
        "     pyplot.imshow(face)\n",
        "     i += 1\n",
        "     if(i>=5):\n",
        "       break\n",
        "\n",
        "pyplot.show()\n",
        "'''"
      ],
      "execution_count": 5,
      "outputs": [
        {
          "output_type": "stream",
          "text": [
            "1 (160, 160, 3)\n",
            "2 (160, 160, 3)\n",
            "3 (160, 160, 3)\n",
            "4 (160, 160, 3)\n"
          ],
          "name": "stdout"
        },
        {
          "output_type": "display_data",
          "data": {
            "image/png": "[encoded data removed]",
            "text/plain": [
              "<Figure size 432x288 with 4 Axes>"
            ]
          },
          "metadata": {
            "tags": [],
            "needs_background": "light"
          }
        }
      ]
    },
    {
      "cell_type": "code",
      "metadata": {
        "colab": {
          "base_uri": "https://localhost:8080/"
        },
        "id": "lCeubb0ni82V",
        "outputId": "f5860396-a9f8-43d5-917b-e9fd6c28cbfe"
      },
      "source": [
        "from numpy import load\n",
        "from numpy import expand_dims\n",
        "from numpy import asarray\n",
        "from numpy import savez_compressed\n",
        "from keras.models import load_model\n",
        " \n",
        "# get the face embedding for one face\n",
        "def get_embedding(model, face_pixels):\n",
        "\t# scale pixel values\n",
        "\tface_pixels = face_pixels.astype('float32')\n",
        "\t# standardize pixel values across channels (global)\n",
        "\tmean, std = face_pixels.mean(), face_pixels.std()\n",
        "\tface_pixels = (face_pixels - mean) / std\n",
        "\t# transform face into one sample\n",
        "\tsamples = expand_dims(face_pixels, axis=0)\n",
        "\t# make prediction to get embedding\n",
        "\tyhat = model.predict(samples)\n",
        "\treturn yhat[0]\n",
        " \n",
        "# load the face dataset\n",
        "data = load('5-celebrity-faces-dataset.npz')\n",
        "trainX, trainy, testX, testy = data['arr_0'], data['arr_1'], data['arr_2'], data['arr_3']\n",
        "print('Loaded: ', trainX.shape, trainy.shape, testX.shape, testy.shape)\n",
        "# load the facenet model\n",
        "model = load_model('/content/drive/MyDrive/Deep_Learning/Facenet Keras Model/facenet_keras.h5')\n",
        "print('Loaded Model')\n",
        "# convert each face in the train set to an embedding\n",
        "newTrainX = list()\n",
        "for face_pixels in trainX:\n",
        "\tembedding = get_embedding(model, face_pixels)\n",
        "\tnewTrainX.append(embedding)\n",
        "newTrainX = asarray(newTrainX)\n",
        "print(newTrainX.shape)\n",
        "# convert each face in the test set to an embedding\n",
        "newTestX = list()\n",
        "for face_pixels in testX:\n",
        "\tembedding = get_embedding(model, face_pixels)\n",
        "\tnewTestX.append(embedding)\n",
        "newTestX = asarray(newTestX)\n",
        "print(newTestX.shape)\n",
        "# save arrays to one file in compressed format\n",
        "savez_compressed('5-celebrity-faces-embeddings.npz', newTrainX, trainy, newTestX, testy)"
      ],
      "execution_count": 17,
      "outputs": [
        {
          "output_type": "stream",
          "text": [
            "Loaded:  (11163, 160, 160, 3) (11163,) (4878, 160, 160, 3) (4878,)\n",
            "WARNING:tensorflow:No training configuration found in the save file, so the model was *not* compiled. Compile it manually.\n",
            "Loaded Model\n",
            "WARNING:tensorflow:AutoGraph could not transform <function <lambda> at 0x7f3da27ecb00> and will run it as-is.\n",
            "Cause: could not parse the source code of <function <lambda> at 0x7f3da27ecb00>: no matching AST found\n",
            "To silence this warning, decorate the function with @tf.autograph.experimental.do_not_convert\n",
            "WARNING: AutoGraph could not transform <function <lambda> at 0x7f3da27ecb00> and will run it as-is.\n",
            "Cause: could not parse the source code of <function <lambda> at 0x7f3da27ecb00>: no matching AST found\n",
            "To silence this warning, decorate the function with @tf.autograph.experimental.do_not_convert\n",
            "WARNING:tensorflow:AutoGraph could not transform <function <lambda> at 0x7f3da27ec200> and will run it as-is.\n",
            "Cause: could not parse the source code of <function <lambda> at 0x7f3da27ec200>: no matching AST found\n",
            "To silence this warning, decorate the function with @tf.autograph.experimental.do_not_convert\n",
            "WARNING: AutoGraph could not transform <function <lambda> at 0x7f3da27ec200> and will run it as-is.\n",
            "Cause: could not parse the source code of <function <lambda> at 0x7f3da27ec200>: no matching AST found\n",
            "To silence this warning, decorate the function with @tf.autograph.experimental.do_not_convert\n",
            "WARNING:tensorflow:AutoGraph could not transform <function <lambda> at 0x7f3da27eca70> and will run it as-is.\n",
            "Cause: could not parse the source code of <function <lambda> at 0x7f3da27eca70>: no matching AST found\n",
            "To silence this warning, decorate the function with @tf.autograph.experimental.do_not_convert\n",
            "WARNING: AutoGraph could not transform <function <lambda> at 0x7f3da27eca70> and will run it as-is.\n",
            "Cause: could not parse the source code of <function <lambda> at 0x7f3da27eca70>: no matching AST found\n",
            "To silence this warning, decorate the function with @tf.autograph.experimental.do_not_convert\n",
            "WARNING:tensorflow:AutoGraph could not transform <function <lambda> at 0x7f3da27ecef0> and will run it as-is.\n",
            "Cause: could not parse the source code of <function <lambda> at 0x7f3da27ecef0>: no matching AST found\n",
            "To silence this warning, decorate the function with @tf.autograph.experimental.do_not_convert\n",
            "WARNING: AutoGraph could not transform <function <lambda> at 0x7f3da27ecef0> and will run it as-is.\n",
            "Cause: could not parse the source code of <function <lambda> at 0x7f3da27ecef0>: no matching AST found\n",
            "To silence this warning, decorate the function with @tf.autograph.experimental.do_not_convert\n",
            "WARNING:tensorflow:AutoGraph could not transform <function <lambda> at 0x7f3da27ecf80> and will run it as-is.\n",
            "Cause: could not parse the source code of <function <lambda> at 0x7f3da27ecf80>: no matching AST found\n",
            "To silence this warning, decorate the function with @tf.autograph.experimental.do_not_convert\n",
            "WARNING: AutoGraph could not transform <function <lambda> at 0x7f3da27ecf80> and will run it as-is.\n",
            "Cause: could not parse the source code of <function <lambda> at 0x7f3da27ecf80>: no matching AST found\n",
            "To silence this warning, decorate the function with @tf.autograph.experimental.do_not_convert\n",
            "WARNING:tensorflow:AutoGraph could not transform <function <lambda> at 0x7f3da27ec5f0> and will run it as-is.\n",
            "Cause: could not parse the source code of <function <lambda> at 0x7f3da27ec5f0>: no matching AST found\n",
            "To silence this warning, decorate the function with @tf.autograph.experimental.do_not_convert\n",
            "WARNING: AutoGraph could not transform <function <lambda> at 0x7f3da27ec5f0> and will run it as-is.\n",
            "Cause: could not parse the source code of <function <lambda> at 0x7f3da27ec5f0>: no matching AST found\n",
            "To silence this warning, decorate the function with @tf.autograph.experimental.do_not_convert\n",
            "WARNING:tensorflow:AutoGraph could not transform <function <lambda> at 0x7f3da27ec320> and will run it as-is.\n",
            "Cause: could not parse the source code of <function <lambda> at 0x7f3da27ec320>: no matching AST found\n",
            "To silence this warning, decorate the function with @tf.autograph.experimental.do_not_convert\n",
            "WARNING: AutoGraph could not transform <function <lambda> at 0x7f3da27ec320> and will run it as-is.\n",
            "Cause: could not parse the source code of <function <lambda> at 0x7f3da27ec320>: no matching AST found\n",
            "To silence this warning, decorate the function with @tf.autograph.experimental.do_not_convert\n",
            "WARNING:tensorflow:AutoGraph could not transform <function <lambda> at 0x7f3da27ec050> and will run it as-is.\n",
            "Cause: could not parse the source code of <function <lambda> at 0x7f3da27ec050>: no matching AST found\n",
            "To silence this warning, decorate the function with @tf.autograph.experimental.do_not_convert\n",
            "WARNING: AutoGraph could not transform <function <lambda> at 0x7f3da27ec050> and will run it as-is.\n",
            "Cause: could not parse the source code of <function <lambda> at 0x7f3da27ec050>: no matching AST found\n",
            "To silence this warning, decorate the function with @tf.autograph.experimental.do_not_convert\n",
            "WARNING:tensorflow:AutoGraph could not transform <function <lambda> at 0x7f3da27e88c0> and will run it as-is.\n",
            "Cause: could not parse the source code of <function <lambda> at 0x7f3da27e88c0>: no matching AST found\n",
            "To silence this warning, decorate the function with @tf.autograph.experimental.do_not_convert\n",
            "WARNING: AutoGraph could not transform <function <lambda> at 0x7f3da27e88c0> and will run it as-is.\n",
            "Cause: could not parse the source code of <function <lambda> at 0x7f3da27e88c0>: no matching AST found\n",
            "To silence this warning, decorate the function with @tf.autograph.experimental.do_not_convert\n",
            "WARNING:tensorflow:AutoGraph could not transform <function <lambda> at 0x7f3da27e83b0> and will run it as-is.\n",
            "Cause: could not parse the source code of <function <lambda> at 0x7f3da27e83b0>: no matching AST found\n",
            "To silence this warning, decorate the function with @tf.autograph.experimental.do_not_convert\n",
            "WARNING: AutoGraph could not transform <function <lambda> at 0x7f3da27e83b0> and will run it as-is.\n",
            "Cause: could not parse the source code of <function <lambda> at 0x7f3da27e83b0>: no matching AST found\n",
            "To silence this warning, decorate the function with @tf.autograph.experimental.do_not_convert\n",
            "WARNING:tensorflow:AutoGraph could not transform <function <lambda> at 0x7f3da27e8a70> and will run it as-is.\n",
            "Cause: could not parse the source code of <function <lambda> at 0x7f3da27e8a70>: no matching AST found\n",
            "To silence this warning, decorate the function with @tf.autograph.experimental.do_not_convert\n",
            "WARNING: AutoGraph could not transform <function <lambda> at 0x7f3da27e8a70> and will run it as-is.\n",
            "Cause: could not parse the source code of <function <lambda> at 0x7f3da27e8a70>: no matching AST found\n",
            "To silence this warning, decorate the function with @tf.autograph.experimental.do_not_convert\n",
            "WARNING:tensorflow:AutoGraph could not transform <function <lambda> at 0x7f3da27e8440> and will run it as-is.\n",
            "Cause: could not parse the source code of <function <lambda> at 0x7f3da27e8440>: no matching AST found\n",
            "To silence this warning, decorate the function with @tf.autograph.experimental.do_not_convert\n",
            "WARNING: AutoGraph could not transform <function <lambda> at 0x7f3da27e8440> and will run it as-is.\n",
            "Cause: could not parse the source code of <function <lambda> at 0x7f3da27e8440>: no matching AST found\n",
            "To silence this warning, decorate the function with @tf.autograph.experimental.do_not_convert\n",
            "WARNING:tensorflow:AutoGraph could not transform <function <lambda> at 0x7f3da27e8680> and will run it as-is.\n",
            "Cause: could not parse the source code of <function <lambda> at 0x7f3da27e8680>: no matching AST found\n",
            "To silence this warning, decorate the function with @tf.autograph.experimental.do_not_convert\n",
            "WARNING: AutoGraph could not transform <function <lambda> at 0x7f3da27e8680> and will run it as-is.\n",
            "Cause: could not parse the source code of <function <lambda> at 0x7f3da27e8680>: no matching AST found\n",
            "To silence this warning, decorate the function with @tf.autograph.experimental.do_not_convert\n",
            "WARNING:tensorflow:AutoGraph could not transform <function <lambda> at 0x7f3da27e8c20> and will run it as-is.\n",
            "Cause: could not parse the source code of <function <lambda> at 0x7f3da27e8c20>: no matching AST found\n",
            "To silence this warning, decorate the function with @tf.autograph.experimental.do_not_convert\n",
            "WARNING: AutoGraph could not transform <function <lambda> at 0x7f3da27e8c20> and will run it as-is.\n",
            "Cause: could not parse the source code of <function <lambda> at 0x7f3da27e8c20>: no matching AST found\n",
            "To silence this warning, decorate the function with @tf.autograph.experimental.do_not_convert\n",
            "WARNING:tensorflow:AutoGraph could not transform <function <lambda> at 0x7f3da27e8290> and will run it as-is.\n",
            "Cause: could not parse the source code of <function <lambda> at 0x7f3da27e8290>: no matching AST found\n",
            "To silence this warning, decorate the function with @tf.autograph.experimental.do_not_convert\n",
            "WARNING: AutoGraph could not transform <function <lambda> at 0x7f3da27e8290> and will run it as-is.\n",
            "Cause: could not parse the source code of <function <lambda> at 0x7f3da27e8290>: no matching AST found\n",
            "To silence this warning, decorate the function with @tf.autograph.experimental.do_not_convert\n",
            "WARNING:tensorflow:AutoGraph could not transform <function <lambda> at 0x7f3da27e8d40> and will run it as-is.\n",
            "Cause: could not parse the source code of <function <lambda> at 0x7f3da27e8d40>: no matching AST found\n",
            "To silence this warning, decorate the function with @tf.autograph.experimental.do_not_convert\n",
            "WARNING: AutoGraph could not transform <function <lambda> at 0x7f3da27e8d40> and will run it as-is.\n",
            "Cause: could not parse the source code of <function <lambda> at 0x7f3da27e8d40>: no matching AST found\n",
            "To silence this warning, decorate the function with @tf.autograph.experimental.do_not_convert\n",
            "WARNING:tensorflow:AutoGraph could not transform <function <lambda> at 0x7f3da27e8560> and will run it as-is.\n",
            "Cause: could not parse the source code of <function <lambda> at 0x7f3da27e8560>: no matching AST found\n",
            "To silence this warning, decorate the function with @tf.autograph.experimental.do_not_convert\n",
            "WARNING: AutoGraph could not transform <function <lambda> at 0x7f3da27e8560> and will run it as-is.\n",
            "Cause: could not parse the source code of <function <lambda> at 0x7f3da27e8560>: no matching AST found\n",
            "To silence this warning, decorate the function with @tf.autograph.experimental.do_not_convert\n",
            "WARNING:tensorflow:AutoGraph could not transform <function <lambda> at 0x7f3da27e8320> and will run it as-is.\n",
            "Cause: could not parse the source code of <function <lambda> at 0x7f3da27e8320>: no matching AST found\n",
            "To silence this warning, decorate the function with @tf.autograph.experimental.do_not_convert\n",
            "WARNING: AutoGraph could not transform <function <lambda> at 0x7f3da27e8320> and will run it as-is.\n",
            "Cause: could not parse the source code of <function <lambda> at 0x7f3da27e8320>: no matching AST found\n",
            "To silence this warning, decorate the function with @tf.autograph.experimental.do_not_convert\n",
            "WARNING:tensorflow:AutoGraph could not transform <function <lambda> at 0x7f3da27e87a0> and will run it as-is.\n",
            "Cause: could not parse the source code of <function <lambda> at 0x7f3da27e87a0>: no matching AST found\n",
            "To silence this warning, decorate the function with @tf.autograph.experimental.do_not_convert\n",
            "WARNING: AutoGraph could not transform <function <lambda> at 0x7f3da27e87a0> and will run it as-is.\n",
            "Cause: could not parse the source code of <function <lambda> at 0x7f3da27e87a0>: no matching AST found\n",
            "To silence this warning, decorate the function with @tf.autograph.experimental.do_not_convert\n",
            "WARNING:tensorflow:AutoGraph could not transform <function <lambda> at 0x7f3da27e8b90> and will run it as-is.\n",
            "Cause: could not parse the source code of <function <lambda> at 0x7f3da27e8b90>: no matching AST found\n",
            "To silence this warning, decorate the function with @tf.autograph.experimental.do_not_convert\n",
            "WARNING: AutoGraph could not transform <function <lambda> at 0x7f3da27e8b90> and will run it as-is.\n",
            "Cause: could not parse the source code of <function <lambda> at 0x7f3da27e8b90>: no matching AST found\n",
            "To silence this warning, decorate the function with @tf.autograph.experimental.do_not_convert\n",
            "WARNING:tensorflow:AutoGraph could not transform <function <lambda> at 0x7f3da286eef0> and will run it as-is.\n",
            "Cause: could not parse the source code of <function <lambda> at 0x7f3da286eef0>: no matching AST found\n",
            "To silence this warning, decorate the function with @tf.autograph.experimental.do_not_convert\n",
            "WARNING: AutoGraph could not transform <function <lambda> at 0x7f3da286eef0> and will run it as-is.\n",
            "Cause: could not parse the source code of <function <lambda> at 0x7f3da286eef0>: no matching AST found\n",
            "To silence this warning, decorate the function with @tf.autograph.experimental.do_not_convert\n",
            "(11163, 128)\n",
            "(4878, 128)\n"
          ],
          "name": "stdout"
        }
      ]
    },
    {
      "cell_type": "code",
      "metadata": {
        "colab": {
          "base_uri": "https://localhost:8080/"
        },
        "id": "EwZGm-kCRj4P",
        "outputId": "ac1bbfc9-7af5-4b19-bc60-f2e16656115d"
      },
      "source": [
        "pip install sklearn\n"
      ],
      "execution_count": null,
      "outputs": [
        {
          "output_type": "stream",
          "text": [
            "Requirement already satisfied: sklearn in /usr/local/lib/python3.7/dist-packages (0.0)\n",
            "Requirement already satisfied: scikit-learn in /usr/local/lib/python3.7/dist-packages (from sklearn) (0.22.2.post1)\n",
            "Requirement already satisfied: joblib>=0.11 in /usr/local/lib/python3.7/dist-packages (from scikit-learn->sklearn) (1.0.1)\n",
            "Requirement already satisfied: numpy>=1.11.0 in /usr/local/lib/python3.7/dist-packages (from scikit-learn->sklearn) (1.19.5)\n",
            "Requirement already satisfied: scipy>=0.17.0 in /usr/local/lib/python3.7/dist-packages (from scikit-learn->sklearn) (1.4.1)\n"
          ],
          "name": "stdout"
        }
      ]
    },
    {
      "cell_type": "code",
      "metadata": {
        "colab": {
          "base_uri": "https://localhost:8080/"
        },
        "id": "mSu598ZSSUy7",
        "outputId": "e4414a97-a0a1-4618-f360-2b6f5ecc9e78"
      },
      "source": [
        "pip install random2"
      ],
      "execution_count": null,
      "outputs": [
        {
          "output_type": "stream",
          "text": [
            "Collecting random2\n",
            "  Downloading https://files.pythonhosted.org/packages/ee/b5/5aca5217501fbd06b1e5aed6d5986baa0da5380880e6bb6f421ed18e3a32/random2-1.0.1.zip\n",
            "Building wheels for collected packages: random2\n",
            "  Building wheel for random2 (setup.py) ... \u001b[?25l\u001b[?25hdone\n",
            "  Created wheel for random2: filename=random2-1.0.1-cp37-none-any.whl size=12071 sha256=107671dec811a033f337cf7f968c13efea71910a5cab9e3b922e729534543f96\n",
            "  Stored in directory: /root/.cache/pip/wheels/36/a1/eb/8b267e15c260cf21ca104e217f46587db40eaa906cb04d37c0\n",
            "Successfully built random2\n",
            "Installing collected packages: random2\n",
            "Successfully installed random2-1.0.1\n"
          ],
          "name": "stdout"
        }
      ]
    },
    {
      "cell_type": "code",
      "metadata": {
        "colab": {
          "base_uri": "https://localhost:8080/"
        },
        "id": "ZhQ90qhZSdyD",
        "outputId": "a25607bf-c4f1-4a7d-d018-418b73f6383a"
      },
      "source": [
        "pip install matplotlib"
      ],
      "execution_count": null,
      "outputs": [
        {
          "output_type": "stream",
          "text": [
            "Requirement already satisfied: matplotlib in /usr/local/lib/python3.7/dist-packages (3.2.2)\n",
            "Requirement already satisfied: kiwisolver>=1.0.1 in /usr/local/lib/python3.7/dist-packages (from matplotlib) (1.3.1)\n",
            "Requirement already satisfied: pyparsing!=2.0.4,!=2.1.2,!=2.1.6,>=2.0.1 in /usr/local/lib/python3.7/dist-packages (from matplotlib) (2.4.7)\n",
            "Requirement already satisfied: python-dateutil>=2.1 in /usr/local/lib/python3.7/dist-packages (from matplotlib) (2.8.1)\n",
            "Requirement already satisfied: numpy>=1.11 in /usr/local/lib/python3.7/dist-packages (from matplotlib) (1.19.5)\n",
            "Requirement already satisfied: cycler>=0.10 in /usr/local/lib/python3.7/dist-packages (from matplotlib) (0.10.0)\n",
            "Requirement already satisfied: six>=1.5 in /usr/local/lib/python3.7/dist-packages (from python-dateutil>=2.1->matplotlib) (1.15.0)\n"
          ],
          "name": "stdout"
        }
      ]
    },
    {
      "cell_type": "code",
      "metadata": {
        "colab": {
          "base_uri": "https://localhost:8080/"
        },
        "id": "NnzN_wtESo4b",
        "outputId": "f72a3a42-3619-4144-f298-55b461b8bb28"
      },
      "source": [
        "from random import choice\n",
        "from numpy import load\n",
        "from numpy import expand_dims\n",
        "from sklearn.preprocessing import LabelEncoder\n",
        "from sklearn.preprocessing import Normalizer\n",
        "#from sklearn.svm import SVC\n",
        "from matplotlib import pyplot\n",
        "from sklearn.neighbors import KNeighborsClassifier\n",
        "# load faces\n",
        "data = load('5-celebrity-faces-dataset.npz')\n",
        "testX_faces = data['arr_2']\n",
        "# load face embeddings\n",
        "data = load('5-celebrity-faces-embeddings.npz')\n",
        "trainX, trainy, testX, testy = data['arr_0'], data['arr_1'], data['arr_2'], data['arr_3']\n",
        "# normalize input vectors\n",
        "in_encoder = Normalizer(norm='l2')\n",
        "trainX = in_encoder.transform(trainX)\n",
        "testX = in_encoder.transform(testX)\n",
        "# label encode targets\n",
        "out_encoder = LabelEncoder()\n",
        "out_encoder.fit(trainy)\n",
        "trainy = out_encoder.transform(trainy)\n",
        "testy = out_encoder.transform(testy)\n",
        "# fit model\n",
        "model = KNeighborsClassifier(n_neighbors=12)\n",
        "model.fit(trainX, trainy)\n",
        "# test model on a random example from the test dataset\n",
        "'''\n",
        "selection = choice([i for i in range(testX.shape[0])])\n",
        "random_face_pixels = testX_faces[selection]\n",
        "random_face_emb = testX[selection]\n",
        "random_face_class = testy[selection]\n",
        "random_face_name = out_encoder.inverse_transform([random_face_class])\n",
        "# prediction for the face\n",
        "samples = expand_dims(random_face_emb, axis=0)\n",
        "yhat_class = model.predict(samples)\n",
        "yhat_prob = model.predict_proba(samples)\n",
        "# get name\n",
        "class_index = yhat_class[0]\n",
        "class_probability = yhat_prob[0,class_index] * 100\n",
        "predict_names = out_encoder.inverse_transform(yhat_class)\n",
        "print('Predicted: %s (%.3f)' % (predict_names[0], class_probability))\n",
        "print('Expected: %s' % random_face_name[0])\n",
        "# plot for fun\n",
        "pyplot.imshow(random_face_pixels)\n",
        "title = '%s (%.3f)' % (predict_names[0], class_probability)\n",
        "pyplot.title(title)\n",
        "pyplot.show()\n",
        "'''\n",
        "yhat=model.predict(testX)\n",
        "from sklearn.metrics import accuracy_score\n",
        "accuracy_score(testy,yhat)\n",
        "#from sklearn.metrics import confusion_matrix\n",
        "#confusion_matrix(testy,yhat)"
      ],
      "execution_count": 28,
      "outputs": [
        {
          "output_type": "execute_result",
          "data": {
            "text/plain": [
              "0.974579745797458"
            ]
          },
          "metadata": {
            "tags": []
          },
          "execution_count": 28
        }
      ]
    }
  ]
}